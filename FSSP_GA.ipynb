{
 "cells": [
  {
   "cell_type": "code",
   "execution_count": 1,
   "metadata": {},
   "outputs": [],
   "source": [
    "import numpy as np\n",
    "import pandas as pd\n",
    "import random as rd\n",
    "import time"
   ]
  },
  {
   "cell_type": "code",
   "execution_count": 2,
   "metadata": {},
   "outputs": [],
   "source": [
    "def InitialPopulation (PopulationSize, InitialSolution):\n",
    "    '''This function generates the initial population from given initial solution (InitialSolution) \n",
    "    where the size of the population is the input (PopulationSize)'''\n",
    "    X_All=[]\n",
    "    for i in range(10):\n",
    "        X_New=rd.sample(InitialSolution, len(InitialSolution))\n",
    "        X_All.append(X_New)\n",
    "    return X_All"
   ]
  },
  {
   "cell_type": "code",
   "execution_count": 3,
   "metadata": {},
   "outputs": [],
   "source": [
    "def Objective(NumberOfMachines, NumberOfJobs, ProcessingTimeDF, Solution):\n",
    "    '''According to the job-machine processing time data (ProcessingTimeDF) given in pandas dataframe format\n",
    "    this function calculate the total makespan of given solution (Solution) '''\n",
    "    Time_Pass=[0]*NumberOfJobs\n",
    "    for machine in range (NumberOfMachines):\n",
    "        for job in range(0,NumberOfJobs):\n",
    "            time_spent=Time_Pass[job]\n",
    "            if job>0:\n",
    "                time_spent=max(Time_Pass[job-1], Time_Pass[job])\n",
    "            Time_Pass[job]= time_spent + ProcessingTimeDF.loc[Solution[job]].to_list()[machine]\n",
    "    return Time_Pass[-1]#total time pass until the last job is finished"
   ]
  },
  {
   "cell_type": "code",
   "execution_count": 4,
   "metadata": {},
   "outputs": [],
   "source": [
    "def RouletteWheelParentSelection(All_Objectives):\n",
    "    '''This function performs parent selection by roulette wheel solution method where the selection is biased\n",
    "    by the solution that has better objective value'''\n",
    "    denominator=0\n",
    "    for obj in All_Objectives:\n",
    "        denominator+=max(All_Objectives)-obj\n",
    "        \n",
    "    Probability={}\n",
    "    j=0\n",
    "    for obj in All_Objectives:\n",
    "        Probability[j]=((max(All_Objectives)-obj)/denominator)\n",
    "        j+=1\n",
    "        \n",
    "    Sorted_Probability={k: v for k, v in sorted(Probability.items(), key=lambda item: item[1])}\n",
    "    pick = rd.uniform(0, 1)\n",
    "    current = 0\n",
    "    for key, value in Sorted_Probability.items():\n",
    "        current += value\n",
    "        if current > pick:\n",
    "            return key"
   ]
  },
  {
   "cell_type": "code",
   "execution_count": 5,
   "metadata": {},
   "outputs": [],
   "source": [
    "def TwoPointCrossOver(P1, P2):\n",
    "    '''This function performs cross over operator based on two point cross over.\n",
    "    Within this two point cross over operator defined, the jobs between two randomly\n",
    "    selected points  always inherited from one parent to the child,\n",
    "    and other jobs are placed in order'''\n",
    "    \n",
    "    CO_points=rd.sample([i for i in range(1,len(P1))],2)\n",
    "    CO_points.sort()\n",
    "    \n",
    "    InheritFromP1=P1[CO_points[0]:CO_points[1]]\n",
    "    NewP2=[i for i in P2 if i not in InheritFromP1]\n",
    "    Child1=[]\n",
    "    for i1 in range(0,CO_points[0]):\n",
    "        Child1.extend([NewP2[i1]]) \n",
    "    ILast=len(Child1)\n",
    "    Child1.extend(InheritFromP1)\n",
    "    for i2 in range (ILast,len(NewP2)):\n",
    "        Child1.extend([NewP2[i2]])\n",
    "    \n",
    "    InheritFromP2=P2[CO_points[0]:CO_points[1]]\n",
    "    NewP1=[i for i in P1 if i not in InheritFromP2]\n",
    "    Child2=[]\n",
    "    for i1 in range(0,CO_points[0]):\n",
    "        Child2.extend([NewP1[i1]]) \n",
    "    ILast=len(Child2)\n",
    "    Child2.extend(InheritFromP2)\n",
    "    for i2 in range (ILast,len(NewP1)):\n",
    "        Child2.extend([NewP1[i2]])\n",
    "    return Child1, Child2"
   ]
  },
  {
   "cell_type": "code",
   "execution_count": 6,
   "metadata": {},
   "outputs": [],
   "source": [
    "def Mutation (Child1, Child2, p):\n",
    "    '''This function perfoms two job exchange mutation to the children (Child1, Child2) \n",
    "   with the probability p'''\n",
    "   \n",
    "    u=rd.uniform(0,1)\n",
    "    if u<=p:\n",
    "        M_points=rd.sample([i for i in range(0,len(Child1))],2)\n",
    "        i1=Child1[M_points[0]]\n",
    "        i2=Child1[M_points[1]]\n",
    "        Child1[M_points[0]]=i2\n",
    "        Child1[M_points[1]]=i1\n",
    "    \n",
    "    u=rd.uniform(0,1)\n",
    "    if u<=p:\n",
    "        M_points=rd.sample([i for i in range(0,len(Child2))],2)\n",
    "        i1=Child2[M_points[0]]\n",
    "        i2=Child2[M_points[1]]\n",
    "        Child2[M_points[0]]=i2\n",
    "        Child2[M_points[1]]=i1\n",
    "    \n",
    "    return Child1, Child2"
   ]
  },
  {
   "cell_type": "code",
   "execution_count": 7,
   "metadata": {},
   "outputs": [],
   "source": [
    "def RouletteWheelReplacementSelection(All_Objectives):\n",
    "    '''Roulette wheel selection procedure to decide which individual will be drawn from population '''\n",
    "    denominator=0\n",
    "    for obj in All_Objectives:\n",
    "        denominator+=obj-min(All_Objectives)\n",
    "        \n",
    "    Probability={}\n",
    "    j=0\n",
    "    for obj in All_Objectives:\n",
    "        Probability[j]=((obj-min(All_Objectives))/denominator)\n",
    "        j+=1\n",
    "        \n",
    "    Sorted_Probability={k: v for k, v in sorted(Probability.items(), key=lambda item: item[1])}\n",
    "    pick = rd.uniform(0, 1)\n",
    "    current = 0\n",
    "    for key, value in Sorted_Probability.items():\n",
    "        current += value\n",
    "        if current > pick:\n",
    "            return key"
   ]
  },
  {
   "cell_type": "code",
   "execution_count": 44,
   "metadata": {},
   "outputs": [],
   "source": [
    "def GA(InstanceDataFrame, PopulationSize, NumberOfIterations, MutationProbability, BestKnown):\n",
    "    start_time = time.time()\n",
    "    \n",
    "    #Initialization\n",
    "    j=len(InstanceDataFrame.index) #number of jobs\n",
    "    m=len(InstanceDataFrame.columns) #number of machines\n",
    "    X_Initial=[i for i in range(1,j+1)] # initial individual to generate the initial population\n",
    "    Solutions=InitialPopulation(PopulationSize, X_Initial)\n",
    "    All_Objectives=[]\n",
    "    for Solution in Solutions:\n",
    "        All_Objectives.append(Objective(m,j,InstanceDataFrame, Solution))\n",
    "        \n",
    "    Incumbent=min(All_Objectives)\n",
    "    BestSolution= Solutions[All_Objectives.index(Incumbent)]\n",
    "    \n",
    "    BestSolutionWithinChoromosome=[] #to track the average best objective values within choromosomes\n",
    "\n",
    "    for iteration in range(NumberOfIterations):\n",
    "        \n",
    "        #First Parent Selection\n",
    "        IndexOfP1=RouletteWheelParentSelection(All_Objectives)\n",
    "        \n",
    "        #Second Parent Selection, where roulette wheel is performed again by drawing first parent from population\n",
    "        New_All_Objectives=All_Objectives.copy()\n",
    "        New_Solutions=Solutions.copy()\n",
    "        del (New_All_Objectives[IndexOfP1])\n",
    "        del (New_Solutions[IndexOfP1])\n",
    "        IndexOfP2=RouletteWheelParentSelection(New_All_Objectives)\n",
    "    \n",
    "        P1=Solutions[IndexOfP1]\n",
    "        P2=New_Solutions[IndexOfP2]\n",
    "    \n",
    "        #Crossover\n",
    "        Child1, Child2=TwoPointCrossOver(P1,P2)\n",
    "    \n",
    "        #Mutation\n",
    "        MChild1, MChild2=Mutation(Child1, Child2, MutationProbability)\n",
    "    \n",
    "        #Subtitution\n",
    "        IndexOfReplacedIndividual1=RouletteWheelReplacementSelection(All_Objectives)\n",
    "        New_All_Objectives=All_Objectives.copy()\n",
    "        New_Solutions=Solutions.copy()\n",
    "        del (New_All_Objectives[IndexOfReplacedIndividual1])\n",
    "        del (New_Solutions[IndexOfReplacedIndividual1])\n",
    "        IndexOfReplacedIndividual2=RouletteWheelParentSelection(New_All_Objectives)\n",
    "        del (New_All_Objectives[IndexOfReplacedIndividual2])\n",
    "        del (New_Solutions[IndexOfReplacedIndividual2])\n",
    "    \n",
    "        #Replacement\n",
    "    \n",
    "        New_All_Objectives.append(Objective(m,j,InstanceDataFrame, MChild1))\n",
    "        New_All_Objectives.append(Objective(m,j,InstanceDataFrame, MChild2))\n",
    "        New_Solutions.append(MChild1)\n",
    "        New_Solutions.append(MChild2)\n",
    "        \n",
    "        BestSolutionWithinChoromosome.append(min(New_All_Objectives))\n",
    "    \n",
    "        #Update incumbent if it is necessary\n",
    "        if min(New_All_Objectives)<Incumbent:\n",
    "            Incumbent=min(New_All_Objectives)\n",
    "            BestSolution=New_Solutions[New_All_Objectives.index(Incumbent)]\n",
    "    \n",
    "        #Continue\n",
    "        All_Objectives=New_All_Objectives\n",
    "        Solutions=New_Solutions\n",
    "        \n",
    "    CPU_time=np.round((time.time() - start_time),2)   \n",
    "    Avg_Best=np.round(sum(BestSolutionWithinChoromosome)/len(BestSolutionWithinChoromosome),2)\n",
    "    Gap=np.round(((Incumbent-BestKnown)/BestKnown),2)\n",
    "    return BestSolution, Incumbent, Avg_Best , CPU_time, Gap"
   ]
  },
  {
   "cell_type": "code",
   "execution_count": 11,
   "metadata": {},
   "outputs": [],
   "source": [
    "#keep the input as dataframe\n",
    "ins_j8m4= pd.read_csv('data_car1', header=None, delimiter=\";\")\n",
    "ins_j8m4.index +=1\n",
    "ins_j13m5=pd.read_csv('data_reC05', header=None, delimiter=\";\")\n",
    "ins_j13m5.index +=1\n",
    "ins_j20m5=pd.read_csv('data_reC09', header=None, delimiter=\";\")\n",
    "ins_j20m5.index+=1"
   ]
  },
  {
   "cell_type": "code",
   "execution_count": 30,
   "metadata": {},
   "outputs": [
    {
     "data": {
      "text/plain": [
       "([8, 7, 5, 3, 6, 2, 1, 4], 4534, 4911.98, 5.35, 0.0)"
      ]
     },
     "execution_count": 30,
     "metadata": {},
     "output_type": "execute_result"
    }
   ],
   "source": [
    "GA(ins_j8m4,5, 1000, 1, 4534)"
   ]
  },
  {
   "cell_type": "code",
   "execution_count": 45,
   "metadata": {},
   "outputs": [
    {
     "data": {
      "text/plain": [
       "([3, 5, 12, 8, 2, 9, 13, 6, 11, 10, 7, 1, 4], 937, 982.71, 13.25, 0.02)"
      ]
     },
     "execution_count": 45,
     "metadata": {},
     "output_type": "execute_result"
    }
   ],
   "source": [
    "GA(ins_j13m5,5, 1000, 1, 920)"
   ]
  },
  {
   "cell_type": "code",
   "execution_count": 48,
   "metadata": {},
   "outputs": [
    {
     "data": {
      "text/plain": [
       "([19, 16, 4, 14, 13, 12, 10, 9, 17, 5, 18, 3, 7, 1, 20, 8, 6, 15, 11, 2],\n",
       " 1318,\n",
       " 1391.63,\n",
       " 18.73,\n",
       " 0.01)"
      ]
     },
     "execution_count": 48,
     "metadata": {},
     "output_type": "execute_result"
    }
   ],
   "source": [
    "GA(ins_j20m5,5, 1000, 1, 1302)"
   ]
  }
 ],
 "metadata": {
  "kernelspec": {
   "display_name": "Python 3",
   "language": "python",
   "name": "python3"
  },
  "language_info": {
   "codemirror_mode": {
    "name": "ipython",
    "version": 3
   },
   "file_extension": ".py",
   "mimetype": "text/x-python",
   "name": "python",
   "nbconvert_exporter": "python",
   "pygments_lexer": "ipython3",
   "version": "3.8.5"
  }
 },
 "nbformat": 4,
 "nbformat_minor": 4
}
